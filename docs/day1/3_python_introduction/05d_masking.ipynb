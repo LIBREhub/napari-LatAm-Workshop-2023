{
 "cells": [
  {
   "cell_type": "markdown",
   "id": "8109deef-c7bd-49eb-bd9b-4277c4d4ef87",
   "metadata": {},
   "source": [
    "# Masking numpy arrays\n",
    "Masking is the term used for selecting entries in arrays, e.g. depending on its content.\n",
    "In order to do this, we need to use [NumPy arrays](https://numpy.org/doc/stable/user/basics.creation.html).\n",
    "\n",
    "First, we define a NumPy array. In our case, it contains numbers:"
   ]
  },
  {
   "cell_type": "code",
   "execution_count": null,
   "id": "396bbd4b-d770-4507-9d85-737437a0eacd",
   "metadata": {
    "tags": []
   },
   "outputs": [],
   "source": [
    "import numpy\n",
    "\n",
    "measurements = numpy.asarray([1, 17, 25, 3, 5, 26, 12])\n",
    "measurements"
   ]
  },
  {
   "cell_type": "markdown",
   "id": "8f7900e2-54d5-493c-a401-4f066c54369b",
   "metadata": {},
   "source": [
    "Next, we create a mask, e.g. a \"filter\" that flags all measurements which are above a given threshold:"
   ]
  },
  {
   "cell_type": "code",
   "execution_count": null,
   "id": "c40eca74-9d79-4659-b91e-aea0ae488dae",
   "metadata": {
    "tags": []
   },
   "outputs": [],
   "source": [
    "mask = measurements > 10\n",
    "mask"
   ]
  },
  {
   "cell_type": "markdown",
   "id": "ed99a910-0dac-45ba-9c8b-78f654881906",
   "metadata": {},
   "source": [
    "We can apply that mask to our data to retrieve a new array that only contains the desired values."
   ]
  },
  {
   "cell_type": "code",
   "execution_count": null,
   "id": "94a8b9c4-aca8-47be-9b74-c305a82d4c41",
   "metadata": {
    "tags": []
   },
   "outputs": [],
   "source": [
    "measurements[mask]"
   ]
  },
  {
   "cell_type": "markdown",
   "id": "14ba8159-0c32-4860-ab29-e679a743e183",
   "metadata": {},
   "source": [
    "**Note** that the shape of the masked array is **not** the same as the original array. If you want that, you need to specify what to do with the missing values. Let's see an example."
   ]
  },
  {
   "cell_type": "markdown",
   "id": "dfb1a523-0fb5-49ae-b38e-6ed0b5253501",
   "metadata": {},
   "source": [
    "First, we will create a [copy of the original array](https://numpy.org/doc/stable/user/basics.copies.html):"
   ]
  },
  {
   "cell_type": "code",
   "execution_count": null,
   "id": "08a38767-916f-470f-a801-f43039fae6a1",
   "metadata": {
    "tags": []
   },
   "outputs": [],
   "source": [
    "filtered_measurements = measurements.copy()"
   ]
  },
  {
   "cell_type": "markdown",
   "id": "71fd7d6a-b310-47a9-89b0-5da404d44516",
   "metadata": {},
   "source": [
    "Then, we apply the mask and set every value that does not correspond to the mask to -1:"
   ]
  },
  {
   "cell_type": "code",
   "execution_count": null,
   "id": "4491ad42-d623-4998-97d3-eb90297de040",
   "metadata": {
    "tags": []
   },
   "outputs": [],
   "source": [
    "filtered_measurements[~mask] = -1"
   ]
  },
  {
   "cell_type": "markdown",
   "id": "2a9431d0-9868-4993-a921-f11e69cf44e9",
   "metadata": {},
   "source": [
    "Now:"
   ]
  },
  {
   "cell_type": "code",
   "execution_count": null,
   "id": "c5a8f72f-6747-4e66-bfc2-ca70c9b7a44f",
   "metadata": {
    "tags": []
   },
   "outputs": [],
   "source": [
    "measurements.shape, filtered_measurements.shape"
   ]
  },
  {
   "cell_type": "code",
   "execution_count": null,
   "id": "73d14fad-8583-4170-9620-9dea4622f219",
   "metadata": {
    "tags": []
   },
   "outputs": [],
   "source": [
    "measurements"
   ]
  },
  {
   "cell_type": "code",
   "execution_count": null,
   "id": "eb4d817d-50d1-4e43-98ed-967f77871a8d",
   "metadata": {
    "tags": []
   },
   "outputs": [],
   "source": [
    "filtered_measurements"
   ]
  },
  {
   "cell_type": "markdown",
   "id": "15ab941d-7dd6-447c-b318-719874694d81",
   "metadata": {},
   "source": [
    "## Exercise 1"
   ]
  },
  {
   "cell_type": "markdown",
   "id": "0b2aacd3-ca1c-4b5a-9101-8a052059258b",
   "metadata": {},
   "source": [
    "Create a new mask for all measurements below 20."
   ]
  },
  {
   "cell_type": "code",
   "execution_count": null,
   "id": "03f9825d-c806-4e85-b7ea-fa75b02e7299",
   "metadata": {},
   "outputs": [],
   "source": []
  },
  {
   "cell_type": "markdown",
   "id": "330a3186-c740-4be7-9eb9-91822d78e173",
   "metadata": {},
   "source": [
    "Apply the mask to retrieve a new array with numbers below 20."
   ]
  },
  {
   "cell_type": "code",
   "execution_count": null,
   "id": "78c9d414-310f-4771-aadc-a18032fe0408",
   "metadata": {},
   "outputs": [],
   "source": []
  },
  {
   "cell_type": "markdown",
   "id": "9d956a11-a549-4dda-bda1-25c3199a3cdc",
   "metadata": {},
   "source": [
    "Compute the average of all numbers below 20."
   ]
  },
  {
   "cell_type": "code",
   "execution_count": null,
   "id": "3a20c289-9191-47ba-bdac-aa1332d50c16",
   "metadata": {},
   "outputs": [],
   "source": []
  },
  {
   "cell_type": "markdown",
   "id": "f138f86e-da06-4d62-a8bb-87cf3360f4fa",
   "metadata": {},
   "source": [
    "# Extra example"
   ]
  },
  {
   "cell_type": "markdown",
   "id": "efe6e5bb-3fac-434c-995e-adee89e7cfdb",
   "metadata": {},
   "source": [
    "Masks can also be N-dimensional:"
   ]
  },
  {
   "cell_type": "code",
   "execution_count": null,
   "id": "71efee1a-21c3-4e05-a7c7-0aa66632232b",
   "metadata": {
    "tags": []
   },
   "outputs": [],
   "source": [
    "from scipy.datasets import face"
   ]
  },
  {
   "cell_type": "code",
   "execution_count": null,
   "id": "11f7d1e5-082b-479d-8a35-a95883c5fbb2",
   "metadata": {
    "tags": []
   },
   "outputs": [],
   "source": [
    "face()"
   ]
  },
  {
   "cell_type": "code",
   "execution_count": null,
   "id": "c0b4646d-1f94-4586-b284-65c9d20c5f07",
   "metadata": {
    "tags": []
   },
   "outputs": [],
   "source": [
    "image = face()"
   ]
  },
  {
   "cell_type": "code",
   "execution_count": null,
   "id": "c091c2c2-3bb9-4732-9c49-61fc70094396",
   "metadata": {
    "tags": []
   },
   "outputs": [],
   "source": [
    "image.shape"
   ]
  },
  {
   "cell_type": "code",
   "execution_count": null,
   "id": "53230353-7e09-4186-aaab-7e957ae28f48",
   "metadata": {
    "tags": []
   },
   "outputs": [],
   "source": [
    "import matplotlib.pyplot as plt\n",
    "plt.imshow(image)"
   ]
  },
  {
   "cell_type": "code",
   "execution_count": null,
   "id": "d4677209-84c9-4d88-a446-964c207efb3f",
   "metadata": {
    "tags": []
   },
   "outputs": [],
   "source": [
    "image_mask = image > 200  # Change the threshold to the value you prefer!"
   ]
  },
  {
   "cell_type": "code",
   "execution_count": null,
   "id": "74de55db-a9e5-418a-9ae0-837351024d36",
   "metadata": {
    "tags": []
   },
   "outputs": [],
   "source": [
    "image_mask.shape"
   ]
  },
  {
   "cell_type": "code",
   "execution_count": null,
   "id": "547ccb3a-cd07-4843-aa76-7555f830173a",
   "metadata": {
    "tags": []
   },
   "outputs": [],
   "source": [
    "image[image_mask]"
   ]
  },
  {
   "cell_type": "code",
   "execution_count": null,
   "id": "e4253114-ae9f-46ca-b8cd-a1c230a7a5d2",
   "metadata": {
    "tags": []
   },
   "outputs": [],
   "source": [
    "image[image_mask].shape"
   ]
  },
  {
   "cell_type": "markdown",
   "id": "e43085f2-a030-492f-95f6-d5c946a6b763",
   "metadata": {},
   "source": [
    "To apply the mask with the same shape as the original image, we'll first create a copy."
   ]
  },
  {
   "cell_type": "code",
   "execution_count": null,
   "id": "06de0caf-9262-4253-97c4-6e0ca1ce0b01",
   "metadata": {
    "tags": []
   },
   "outputs": [],
   "source": [
    "new_image = image.copy()"
   ]
  },
  {
   "cell_type": "code",
   "execution_count": null,
   "id": "91633a94-1fae-43af-843e-ad5c9eb1a9fc",
   "metadata": {
    "tags": []
   },
   "outputs": [],
   "source": [
    "new_image[~image_mask] = 0"
   ]
  },
  {
   "cell_type": "code",
   "execution_count": null,
   "id": "7a9dd8f0-680b-417b-b1ee-727f3f728a55",
   "metadata": {
    "tags": []
   },
   "outputs": [],
   "source": [
    "plt.imshow(new_image)"
   ]
  },
  {
   "cell_type": "markdown",
   "id": "00d6c192-72b5-4a6b-9937-4fa54de26803",
   "metadata": {},
   "source": [
    "## Exercise 2"
   ]
  },
  {
   "cell_type": "markdown",
   "id": "21cd37f0-3a04-477e-940f-8aacc1841fcf",
   "metadata": {},
   "source": [
    "Manipulate the grayscale version of the `face` using masks."
   ]
  },
  {
   "cell_type": "markdown",
   "id": "fbb70489-b641-4516-b690-93689d5f8423",
   "metadata": {
    "tags": []
   },
   "source": [
    "**Hint:** Here's the grayscale version of the `face` image used in the example above:"
   ]
  },
  {
   "cell_type": "code",
   "execution_count": null,
   "id": "d70d0abb-8023-4325-9112-058ddd673089",
   "metadata": {
    "tags": []
   },
   "outputs": [],
   "source": [
    "gray_image = face(gray=True)\n",
    "plt.gray()\n",
    "plt.imshow(gray_image)"
   ]
  },
  {
   "cell_type": "code",
   "execution_count": null,
   "id": "d860f229-2d4e-489b-a114-8a9d5af58988",
   "metadata": {
    "tags": []
   },
   "outputs": [],
   "source": [
    "gray_face = gray_image.copy()"
   ]
  },
  {
   "cell_type": "code",
   "execution_count": null,
   "id": "610064b1-f07c-4360-bc2b-0961bdf2d8ed",
   "metadata": {
    "tags": []
   },
   "outputs": [],
   "source": [
    "gray_face"
   ]
  },
  {
   "cell_type": "code",
   "execution_count": null,
   "id": "bca1b873-a3c0-4b49-8c4d-2b0b40ba2525",
   "metadata": {
    "tags": []
   },
   "outputs": [],
   "source": [
    "gray_face.max(), gray_face.min()"
   ]
  },
  {
   "cell_type": "code",
   "execution_count": null,
   "id": "3a3eb2c1-832c-4376-ac7a-22d5b00bd963",
   "metadata": {
    "tags": []
   },
   "outputs": [],
   "source": [
    "gray_face.shape"
   ]
  },
  {
   "cell_type": "code",
   "execution_count": null,
   "id": "b79e34de-4b4d-44b3-b735-aeb89da73cda",
   "metadata": {
    "tags": []
   },
   "outputs": [],
   "source": [
    "image_mask = gray_face < ___  # Fill your threshold value here!"
   ]
  },
  {
   "cell_type": "code",
   "execution_count": null,
   "id": "635d8410-a746-4817-a139-0a6c5f54f1dc",
   "metadata": {
    "tags": []
   },
   "outputs": [],
   "source": [
    "gray_face[~image_mask] = ___  # Choose a value to insert here"
   ]
  },
  {
   "cell_type": "code",
   "execution_count": null,
   "id": "de7e4285-fc99-48b5-a222-02ef99de254b",
   "metadata": {
    "tags": []
   },
   "outputs": [],
   "source": [
    "plt.imshow(gray_face)"
   ]
  },
  {
   "cell_type": "markdown",
   "id": "1574e30a-d020-4649-a38f-11003868ceed",
   "metadata": {},
   "source": [
    "## Further reading"
   ]
  },
  {
   "cell_type": "markdown",
   "id": "3f0a0d7d-abe4-47fd-9403-064b922dd3cd",
   "metadata": {},
   "source": [
    "For more complex masking operations, you can use the `numpy.ma` module: https://numpy.org/numpy-tutorials/content/tutorial-ma.html"
   ]
  },
  {
   "cell_type": "code",
   "execution_count": null,
   "id": "49cde3a9-181e-49bd-8808-02e499ffac9c",
   "metadata": {},
   "outputs": [],
   "source": []
  }
 ],
 "metadata": {
  "kernelspec": {
   "display_name": "Python 3 (ipykernel)",
   "language": "python",
   "name": "python3"
  },
  "language_info": {
   "codemirror_mode": {
    "name": "ipython",
    "version": 3
   },
   "file_extension": ".py",
   "mimetype": "text/x-python",
   "name": "python",
   "nbconvert_exporter": "python",
   "pygments_lexer": "ipython3",
   "version": "3.10.12"
  }
 },
 "nbformat": 4,
 "nbformat_minor": 5
}
