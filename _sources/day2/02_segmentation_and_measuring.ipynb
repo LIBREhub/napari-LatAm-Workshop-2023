{
 "cells": [
  {
   "cell_type": "code",
   "execution_count": null,
   "id": "9cf94e58",
   "metadata": {
    "tags": [
     "hide-cell"
    ]
   },
   "outputs": [],
   "source": [
    "%matplotlib inline\n",
    "%config InlineBackend.figure_format = 'retina'"
   ]
  },
  {
   "cell_type": "markdown",
   "id": "f208069e",
   "metadata": {},
   "source": [
    "# Segmentation\n",
    "\n",
    "--------------\n",
    "\n",
    "## Separating an image into one or more regions of interest.\n",
    "\n",
    "Everyone has heard or seen Photoshop or a similar graphics editor take a person from one image and place them into another.  The first step of doing this is *identifying where that person is in the source image*.\n",
    "\n",
    "In popular culture, the Terminator's vision segments humans out of the overall scene:\n",
    "\n",
    "<img src=\"./_static/terminator-vision.png\" width=\"700px\"/>\n",
    "\n",
    "Segmentation is a fundamental operation in scientific image analysis because we often want to measure properties of real, physical *objects* such as cells embedded in our image. As such, we want to find those objects within our image."
   ]
  },
  {
   "cell_type": "markdown",
   "id": "103baede",
   "metadata": {},
   "source": [
    "Computationally, segmentations are most often represented as images, of the same size as the original image, containing integer *labels*, with one value representing one object.\n",
    "\n",
    "Here is a very simple image and segmentation, taken from [this scikit-image gallery example](https://scikit-image.org/docs/dev/auto_examples/segmentation/plot_watershed.html#sphx-glr-auto-examples-segmentation-plot-watershed-py):"
   ]
  },
  {
   "cell_type": "code",
   "execution_count": null,
   "id": "fca4f503",
   "metadata": {},
   "outputs": [],
   "source": [
    "import matplotlib.pyplot as plt\n",
    "import numpy as np\n",
    "from scipy import ndimage as ndi\n",
    "\n",
    "import napari\n",
    "\n",
    "from skimage.segmentation import watershed\n",
    "from skimage.feature import peak_local_max\n",
    "from skimage.util import label_points\n",
    "from skimage.color import label2rgb\n",
    "\n",
    "\n",
    "# Generate an initial image with two overlapping circles\n",
    "x, y = np.indices((80, 80))\n",
    "x1, y1, x2, y2 = 28, 28, 44, 52\n",
    "r1, r2 = 16, 20\n",
    "mask_circle1 = (x - x1)**2 + (y - y1)**2 < r1**2\n",
    "mask_circle2 = (x - x2)**2 + (y - y2)**2 < r2**2\n",
    "image = np.logical_or(mask_circle1, mask_circle2)\n",
    "\n",
    "# Now we want to separate the two objects in image\n",
    "# Generate the markers as local maxima of the distance to the background\n",
    "distance = ndi.distance_transform_edt(image)\n",
    "coords = peak_local_max(distance, footprint=np.ones((3, 3)), labels=image)\n",
    "markers = label_points(coords, distance.shape)\n",
    "labels = watershed(-distance, markers, mask=image)\n",
    "\n",
    "# finally, plot the result\n",
    "fig, ax = plt.subplots(1, 3)\n",
    "ax[0].imshow(image)\n",
    "ax[0].set_title('image')\n",
    "ax[1].imshow(label2rgb(labels))\n",
    "ax[1].set_title('labels')\n",
    "ax[2].imshow(labels)\n",
    "ax[2].set_title('labels interpreted\\nas image');"
   ]
  },
  {
   "cell_type": "markdown",
   "id": "33f02fb9",
   "metadata": {},
   "source": [
    "Notice that \"labels\" is just a NumPy array with integer values. We have to be careful to interpret it as labels and not as an image."
   ]
  },
  {
   "cell_type": "markdown",
   "id": "f7472bfc",
   "metadata": {},
   "source": [
    "## The napari viewer"
   ]
  },
  {
   "cell_type": "markdown",
   "id": "8131109a",
   "metadata": {},
   "source": [
    "To look at images and associated data, *napari* provides additional functionality over matplotlib, including:\n",
    "- the canvas is OpenGL, interactive, and responsive\n",
    "- the canvas has *layers*, which can be individually shown or hidden\n",
    "- the viewer is *n-dimensional*, which comes in handy when your images are more than 2D, such as MRI data or (as below) microscopy data\n",
    "\n",
    "Here's how to look at the same images with napari:"
   ]
  },
  {
   "cell_type": "code",
   "execution_count": null,
   "id": "26536f20",
   "metadata": {},
   "outputs": [],
   "source": [
    "viewer = napari.Viewer()\n",
    "image_layer = viewer.add_image(image)\n",
    "labels_layer = viewer.add_labels(labels)\n",
    "labels_as_image_layer = viewer.add_image(\n",
    "    labels, name='labels as image'\n",
    ")"
   ]
  },
  {
   "cell_type": "markdown",
   "id": "9f9beff6",
   "metadata": {},
   "source": [
    "### Exercise 0: play with the napari viewer\n",
    "\n",
    "- zoom with scroll, pan with click and drag\n",
    "- try clicking on the 👁️ icon on each layer in the layer list to make them invisible or visible again\n",
    "- try changing the opacity, colormap, or interpolation on a layer\n",
    "- try turning on \"grid mode\", from the group of buttons at the bottom-left of the viewer.\n",
    "- *select* the labels layer, click on the paintbrush tool, and tweak the segmentation where the two labels meet."
   ]
  },
  {
   "cell_type": "markdown",
   "id": "2f31cc1c",
   "metadata": {},
   "source": [
    "## Segmenting nuclei and measuring cell properties"
   ]
  },
  {
   "cell_type": "markdown",
   "id": "57a74c1f",
   "metadata": {},
   "source": [
    "In the rest of this notebook, we will segment cell nuclei from a small sample image provided by the Allen Institute for Cell Science."
   ]
  },
  {
   "cell_type": "code",
   "execution_count": null,
   "id": "a7300e8e",
   "metadata": {},
   "outputs": [],
   "source": [
    "from skimage import data\n",
    "\n",
    "cells3d = data.cells3d()"
   ]
  },
  {
   "cell_type": "code",
   "execution_count": null,
   "id": "8ae45863",
   "metadata": {},
   "outputs": [],
   "source": [
    "cells3d.shape  # zcyx"
   ]
  },
  {
   "cell_type": "code",
   "execution_count": null,
   "id": "fb673b1f",
   "metadata": {},
   "outputs": [],
   "source": [
    "cells3d.dtype"
   ]
  },
  {
   "cell_type": "code",
   "execution_count": null,
   "id": "65550a13",
   "metadata": {},
   "outputs": [],
   "source": [
    "np.max(cells3d)"
   ]
  },
  {
   "cell_type": "markdown",
   "id": "5453f257",
   "metadata": {},
   "source": [
    "The pixel spacing in this dataset is 0.29µm in the z (leading!) axis, and 0.26µm in the x and y axes."
   ]
  },
  {
   "cell_type": "code",
   "execution_count": null,
   "id": "31ea99f1",
   "metadata": {},
   "outputs": [],
   "source": [
    "spacing = np.array([0.29, 0.26, 0.26])"
   ]
  },
  {
   "cell_type": "markdown",
   "id": "f61d82a6",
   "metadata": {},
   "source": [
    "We can view the 3D image using napari."
   ]
  },
  {
   "cell_type": "code",
   "execution_count": null,
   "id": "68b9a44d",
   "metadata": {},
   "outputs": [],
   "source": [
    "viewer, (membrane_layer, nuclei_layer) = napari.imshow(\n",
    "    cells3d,\n",
    "    channel_axis=1,  # remember, Python uses 0-based indexing!\n",
    "    scale=spacing,\n",
    "    name=['membranes', 'nuclei'],\n",
    "    ndisplay=3,\n",
    ")"
   ]
  },
  {
   "cell_type": "code",
   "execution_count": null,
   "id": "84f16057",
   "metadata": {
    "tags": [
     "hide-input"
    ]
   },
   "outputs": [],
   "source": [
    "from napari.utils.notebook_display import nbscreenshot\n",
    "\n",
    "viewer.dims.ndisplay = 3\n",
    "viewer.camera.angles = (-30, 25, 120)\n",
    "nbscreenshot(viewer, canvas_only=True)"
   ]
  },
  {
   "cell_type": "markdown",
   "id": "4b758d79",
   "metadata": {},
   "source": [
    "## Edge detection\n",
    "\n",
    "We saw the [Sobel operator](https://en.wikipedia.org/wiki/Sobel_operator) in the filters lesson. It is an edge detection algorithm that approximates the gradient of the image intensity, and is fast to compute. The [Scharr filter](https://scikit-image.org/docs/dev/api/skimage.filters.html#skimage.filters.scharr) is a slightly more sophisticated version, with smoothing weights [3, 10, 3]. Finally, the Farid & Simoncelli filter has [even more sophisticated weights](https://en.wikipedia.org/wiki/Image_derivative#Farid_and_Simoncelli_Derivatives). All three work for n-dimensional images in scikit-image."
   ]
  },
  {
   "cell_type": "code",
   "execution_count": null,
   "id": "6d1fd3e8",
   "metadata": {},
   "outputs": [],
   "source": [
    "# grab individual channels and convert to float in [0, 1]\n",
    "\n",
    "membranes = cells3d[:, 0, :, :] / np.max(cells3d)\n",
    "nuclei = cells3d[:, 1, :, :] / np.max(cells3d)"
   ]
  },
  {
   "cell_type": "code",
   "execution_count": null,
   "id": "a1009346",
   "metadata": {},
   "outputs": [],
   "source": [
    "from skimage import filters\n",
    "\n",
    "\n",
    "edges = filters.farid(nuclei)\n",
    "\n",
    "edges_layer = viewer.add_image(\n",
    "    edges,\n",
    "    scale=spacing,\n",
    "    blending='additive',\n",
    "    colormap='yellow',\n",
    ")"
   ]
  },
  {
   "cell_type": "code",
   "execution_count": null,
   "id": "76b40e5c",
   "metadata": {
    "tags": [
     "hide-input",
     "remove-input"
    ]
   },
   "outputs": [],
   "source": [
    "nbscreenshot(viewer)"
   ]
  },
  {
   "cell_type": "markdown",
   "id": "26d1256d",
   "metadata": {},
   "source": [
    "## Thresholding\n",
    "\n",
    "[Thresholding](https://en.wikipedia.org/wiki/Thresholding_%28image_processing%29) is used to create binary images. A threshold value determines the intensity value separating foreground pixels from background pixels. Foregound pixels are pixels brighter than the threshold value, background pixels are darker. In many cases, images can be adequately segmented by thresholding followed by labelling of *connected components*, which is a fancy way of saying \"groups of pixels that touch each other\".\n",
    "\n",
    "Different thresholding algorithms produce different results. [Otsu's method](https://en.wikipedia.org/wiki/Otsu%27s_method) and [Li's minimum cross entropy threshold](https://scikit-image.org/docs/dev/auto_examples/developers/plot_threshold_li.html) are two common algorithms. Below, we use Li. You can use `skimage.filters.threshold_<TAB>` to find different thresholding methods."
   ]
  },
  {
   "cell_type": "code",
   "execution_count": null,
   "id": "03b5268c",
   "metadata": {},
   "outputs": [],
   "source": [
    "denoised = ndi.median_filter(nuclei, size=3)"
   ]
  },
  {
   "cell_type": "code",
   "execution_count": null,
   "id": "72ad6379",
   "metadata": {},
   "outputs": [],
   "source": [
    "li_thresholded = denoised > filters.threshold_li(denoised)"
   ]
  },
  {
   "cell_type": "code",
   "execution_count": null,
   "id": "f4e32a1c",
   "metadata": {},
   "outputs": [],
   "source": [
    "threshold_layer = viewer.add_image(\n",
    "    li_thresholded,\n",
    "    scale=spacing,\n",
    "    opacity=0.3,\n",
    ")"
   ]
  },
  {
   "cell_type": "code",
   "execution_count": null,
   "id": "75c69d5b",
   "metadata": {
    "tags": [
     "hide-input"
    ]
   },
   "outputs": [],
   "source": [
    "nbscreenshot(viewer)"
   ]
  },
  {
   "cell_type": "markdown",
   "id": "da1200d6",
   "metadata": {},
   "source": [
    "We can see that the thresholded value is full of small holes, because of variation in pixel intensity inside the nuclei. Before proceeding further, we'd like to clean up those holes. Additionally, because of variations in the *background* intensity, some spurious small clumps of background pixels appear as foreground."
   ]
  },
  {
   "cell_type": "markdown",
   "id": "a04981f6",
   "metadata": {},
   "source": [
    "## Morphological operations"
   ]
  },
  {
   "cell_type": "markdown",
   "id": "96375ec7",
   "metadata": {},
   "source": [
    "[Mathematical morphology](https://en.wikipedia.org/wiki/Mathematical_morphology) operations and structuring elements are defined in `skimage.morphology`. Structuring elements are shapes which define areas over which an operation is applied. The response to the filter indicates how well the neighborhood corresponds to the structuring element's shape.\n",
    "\n",
    "There are a number of two and three dimensional structuring elements defined in `skimage.morphology`. Not all 2D structuring element have a 3D counterpart. The simplest and most commonly used structuring elements are the `disk`/`ball` and `square`/`cube`."
   ]
  },
  {
   "cell_type": "markdown",
   "id": "35909329",
   "metadata": {},
   "source": [
    "Functions operating on [connected components](https://en.wikipedia.org/wiki/Connected_space) can remove small undesired elements while preserving larger shapes.\n",
    "\n",
    "`skimage.morphology.remove_small_holes` fills holes and `skimage.morphology.remove_small_objects` removes bright regions. Both functions accept a size parameter, which is the minimum size (in pixels) of accepted holes or objects. It's useful in 3D to think in linear dimensions, then cube them. In this case, we remove holes / objects of the same size as a cube 20 pixels across."
   ]
  },
  {
   "cell_type": "code",
   "execution_count": null,
   "id": "e8eefe3a",
   "metadata": {},
   "outputs": [],
   "source": [
    "from skimage import morphology"
   ]
  },
  {
   "cell_type": "code",
   "execution_count": null,
   "id": "f132f4e4",
   "metadata": {},
   "outputs": [],
   "source": [
    "width = 20\n",
    "\n",
    "remove_holes = morphology.remove_small_holes(\n",
    "    li_thresholded, width ** 3\n",
    ")"
   ]
  },
  {
   "cell_type": "code",
   "execution_count": null,
   "id": "4cebeca5",
   "metadata": {},
   "outputs": [],
   "source": [
    "width = 20\n",
    "\n",
    "remove_objects = morphology.remove_small_objects(\n",
    "    remove_holes, width ** 3\n",
    ")\n",
    "\n",
    "viewer.add_image(\n",
    "    remove_objects,\n",
    "    name='cleaned',\n",
    "    scale=spacing,\n",
    "    opacity=0.3,\n",
    ");\n",
    "\n",
    "viewer.layers['li_thresholded'].visible = False"
   ]
  },
  {
   "cell_type": "code",
   "execution_count": null,
   "id": "e0cbc910",
   "metadata": {
    "tags": [
     "hide-input"
    ]
   },
   "outputs": [],
   "source": [
    "nbscreenshot(viewer)"
   ]
  },
  {
   "cell_type": "markdown",
   "id": "a0b3c36b",
   "metadata": {},
   "source": [
    "## Segmentation"
   ]
  },
  {
   "cell_type": "markdown",
   "id": "199b56fd",
   "metadata": {},
   "source": [
    "Now we are ready to label the connected components of this image."
   ]
  },
  {
   "cell_type": "code",
   "execution_count": null,
   "id": "0108b333",
   "metadata": {},
   "outputs": [],
   "source": [
    "from skimage import measure\n",
    "\n",
    "labels = measure.label(remove_objects)\n",
    "\n",
    "viewer.add_labels(\n",
    "    labels,\n",
    "    scale=spacing,\n",
    "    opacity=0.5,\n",
    ")\n",
    "\n",
    "viewer.layers['cleaned'].visible = False"
   ]
  },
  {
   "cell_type": "code",
   "execution_count": null,
   "id": "383169ff",
   "metadata": {
    "tags": [
     "hide-input"
    ]
   },
   "outputs": [],
   "source": [
    "nbscreenshot(viewer)"
   ]
  },
  {
   "cell_type": "markdown",
   "id": "7dadccbf",
   "metadata": {},
   "source": [
    "We can see that tightly packed cells connected in the binary image are assigned the same label."
   ]
  },
  {
   "cell_type": "markdown",
   "id": "8a4005fe",
   "metadata": {},
   "source": [
    "A better segmentation would assign different labels to different nuclei. \n",
    "\n",
    "Typically we use [watershed segmentation](https://en.wikipedia.org/wiki/Watershed_%28image_processing%29) for this purpose. We place *markers* at the center of each object, and these labels are expanded until they meet an edge or an adjacent marker.\n",
    "\n",
    "The trick, then, is how to find these markers.\n",
    "\n",
    "A common approach, which we saw above with the two overlapping circles, is to compute the distance transform of a binary mask, and place markers at the local maxima of that transform.\n",
    "\n",
    "As you will see below, it can be quite challenging to find markers with the right location. A slight amount of noise in the image can result in very wrong point locations."
   ]
  },
  {
   "cell_type": "code",
   "execution_count": null,
   "id": "9bb583b5",
   "metadata": {},
   "outputs": [],
   "source": [
    "transformed = ndi.distance_transform_edt(\n",
    "    remove_objects, sampling=spacing\n",
    ")\n",
    "\n",
    "maxima = morphology.local_maxima(transformed)\n",
    "viewer.add_points(\n",
    "    np.transpose(np.nonzero(maxima)),\n",
    "    name='bad points',\n",
    "    scale=spacing,\n",
    "    size=4,\n",
    "    n_dimensional=True,  # points have 3D \"extent\"\n",
    ")"
   ]
  },
  {
   "cell_type": "code",
   "execution_count": null,
   "id": "2028742e",
   "metadata": {
    "tags": [
     "hide-input"
    ]
   },
   "outputs": [],
   "source": [
    "nbscreenshot(viewer)"
   ]
  },
  {
   "cell_type": "markdown",
   "id": "6c6dab8b",
   "metadata": {},
   "source": [
    "You can see that these points are actually terrible, with many markers found within each nuclei."
   ]
  },
  {
   "cell_type": "markdown",
   "id": "7dfa61b4",
   "metadata": {},
   "source": [
    "### Exercise 1: improve the points\n",
    "\n",
    "Try to improve the segmentation to assign one point for each nucleus. Some ideas:\n",
    "\n",
    "- use a smoothed version of the nuclei image directly\n",
    "- smooth the distance map\n",
    "- use morphological operations to smooth the surface of the nuclei to ensure that they are close to spherical\n",
    "- use peak_local_max with `min_distance` parameter instead of `morphology.local_maxima`\n",
    "- find points on a single plane, then prepend the plane index to the found coordinates"
   ]
  },
  {
   "cell_type": "code",
   "execution_count": null,
   "id": "cc9e4bb1",
   "metadata": {},
   "outputs": [],
   "source": [
    "# Solution here"
   ]
  },
  {
   "cell_type": "markdown",
   "id": "afb495ce",
   "metadata": {},
   "source": [
    "### Mixing manual annotation and algorithms"
   ]
  },
  {
   "cell_type": "markdown",
   "id": "7a31bf70",
   "metadata": {},
   "source": [
    "As you will have seen from the previous exercise, there are many approaches to find better seed points, but they are often fiddly and tedious, and sensitive to parameters — when you encounter a new image, you might have to start all over again!\n",
    "\n",
    "With napari, in many cases, a little interactivity, combined with the segmentation algorithms in scikit-image and elsewhere, can quickly get us the segmentation we want.\n",
    "\n",
    "Below, you can use full manual annotation, or light editing of the points you found automatically."
   ]
  },
  {
   "cell_type": "code",
   "execution_count": null,
   "id": "f1b01d88",
   "metadata": {},
   "outputs": [],
   "source": [
    "viewer.layers['bad points'].visible = False\n",
    "viewer.dims.ndisplay = 2\n",
    "viewer.dims.set_point(0, 30 * spacing[0])\n",
    "\n",
    "points = viewer.add_points(\n",
    "    name='interactive points',\n",
    "    scale=spacing,\n",
    "    ndim=3,\n",
    "    size=4,\n",
    "    n_dimensional=True,\n",
    ")\n",
    "points.mode = 'add'\n",
    "\n",
    "\n",
    "# now, we annotate the centers of the nuclei in your image"
   ]
  },
  {
   "cell_type": "code",
   "execution_count": null,
   "id": "7d57ee82",
   "metadata": {
    "tags": [
     "remove-input"
    ]
   },
   "outputs": [],
   "source": [
    "viewer.dims.ndisplay = 3\n",
    "viewer.camera.angles = (-30, 25, 120)\n",
    "nbscreenshot(viewer)"
   ]
  },
  {
   "cell_type": "code",
   "execution_count": null,
   "id": "0e532442",
   "metadata": {
    "tags": [
     "hide-cell",
     "remove-input",
     "remove-output"
    ]
   },
   "outputs": [],
   "source": [
    "# unscaled points.data\n",
    "# this cell is only to simulate interactive annotation,\n",
    "# no need to run it if you already have annotations.\n",
    "# If for some reason you don't, you can uncomment the code below\n",
    "\n",
    "\n",
    "# points.data = np.array(\n",
    "#       [[ 30.        ,  14.2598685 ,  27.7741219 ],\n",
    "#        [ 30.        ,  30.10416663,  81.36513029],\n",
    "#        [ 30.        ,  13.32785096, 144.27631406],\n",
    "#        [ 30.        ,  46.8804823 , 191.80920846],\n",
    "#        [ 30.        ,  43.15241215, 211.84758551],\n",
    "#        [ 30.        ,  94.87938547, 160.12061219],\n",
    "#        [ 30.        ,  72.97697335, 112.58771779],\n",
    "#        [ 30.        , 138.21820096, 189.01315585],\n",
    "#        [ 30.        , 144.74232372, 242.60416424],\n",
    "#        [ 30.        ,  98.14144685, 251.92433962],\n",
    "#        [ 30.        , 153.59649032, 112.58771779],\n",
    "#        [ 30.        , 134.49013081,  40.35635865],\n",
    "#        [ 30.        , 182.95504275,  48.74451649],\n",
    "#        [ 30.        , 216.04166532,  80.89912152],\n",
    "#        [ 30.        , 235.14802483, 130.296051  ],\n",
    "#        [ 30.        , 196.00328827, 169.44078757],\n",
    "#        [ 30.        , 245.86622651, 202.06140137],\n",
    "#        [ 30.        , 213.71162148, 250.52631331],\n",
    "#        [ 28.        ,  87.42324517,  52.00657787]],\n",
    "#       dtype=float,\n",
    "# )"
   ]
  },
  {
   "cell_type": "markdown",
   "id": "716633bb",
   "metadata": {},
   "source": [
    "Once you have marked all the points, you can grab the data back, and make a markers image for `skimage.segmentation.watershed`:"
   ]
  },
  {
   "cell_type": "code",
   "execution_count": null,
   "id": "0c0ad534",
   "metadata": {},
   "outputs": [],
   "source": [
    "from skimage import segmentation, util\n",
    "\n",
    "marker_locations = points.data\n",
    "\n",
    "\n",
    "markers = util.label_points(marker_locations, nuclei.shape)\n",
    "markers_big = morphology.dilation(markers, morphology.ball(5))\n",
    "\n",
    "segmented = segmentation.watershed(\n",
    "    edges,\n",
    "    markers_big,\n",
    "    mask=remove_objects,\n",
    ")\n",
    "\n",
    "final_segmentation = viewer.add_labels(\n",
    "    segmented,\n",
    "    scale=spacing,\n",
    "    blending='translucent_no_depth',  # don't hide enclosed points\n",
    ")\n",
    "\n",
    "viewer.layers['labels'].visible = False"
   ]
  },
  {
   "cell_type": "code",
   "execution_count": null,
   "id": "5d708e89",
   "metadata": {
    "tags": [
     "remove-input"
    ]
   },
   "outputs": [],
   "source": [
    "nbscreenshot(viewer)"
   ]
  },
  {
   "cell_type": "markdown",
   "id": "ed7acb1d",
   "metadata": {},
   "source": [
    "After watershed, we have better disambiguation between internal cells!"
   ]
  },
  {
   "cell_type": "markdown",
   "id": "fc595667",
   "metadata": {},
   "source": [
    "## Making measurements"
   ]
  },
  {
   "cell_type": "markdown",
   "id": "bcbd2443",
   "metadata": {},
   "source": [
    "Once we have defined our objects, we can make measurements on them using `skimage.measure.regionprops` and `skimage.measure.regionprops_table`. These measurements include features such as area or volume, bounding boxes, and intensity statistics.\n",
    "\n",
    "Before measuring objects, it helps to clear objects from the image border. Measurements should only be collected for objects entirely contained in the image.\n",
    "\n",
    "Given the layer-like structure of our data, we only want to clear the objects touching the sides of the volume, but not the top and bottom, so we pad and crop the volume along the 0th axis to avoid clearing the mitotic nucleus."
   ]
  },
  {
   "cell_type": "code",
   "execution_count": null,
   "id": "809e9a1e",
   "metadata": {},
   "outputs": [],
   "source": [
    "segmented_padded = np.pad(\n",
    "    segmented,\n",
    "    ((1, 1), (0, 0), (0, 0)),\n",
    "    mode='constant',\n",
    "    constant_values=0,\n",
    ")"
   ]
  },
  {
   "cell_type": "code",
   "execution_count": null,
   "id": "ca56e6c0",
   "metadata": {},
   "outputs": [],
   "source": [
    "interior_labels = segmentation.clear_border(segmented_padded)[1:-1]"
   ]
  },
  {
   "cell_type": "markdown",
   "id": "88592e9e",
   "metadata": {},
   "source": [
    "`skimage.measure.regionprops` automatically measures many labeled image features. Optionally, an `intensity_image` can be supplied and intensity features are extracted per object. It's good practice to make measurements on the original image.\n",
    "\n",
    "Not all properties are supported for 3D data. Below we build a list of supported and unsupported 3D measurements."
   ]
  },
  {
   "cell_type": "code",
   "execution_count": null,
   "id": "4631c88a",
   "metadata": {},
   "outputs": [],
   "source": [
    "regionprops = measure.regionprops(interior_labels, intensity_image=nuclei)\n",
    "\n",
    "supported = [] \n",
    "unsupported = []\n",
    "\n",
    "for prop in regionprops[0]:\n",
    "    try:\n",
    "        regionprops[0][prop]\n",
    "        supported.append(prop)\n",
    "    except NotImplementedError:\n",
    "        unsupported.append(prop)\n",
    "\n",
    "print(\"3D/nD properties:\")\n",
    "print(\"  \" + \"\\n  \".join(supported))\n",
    "print()\n",
    "print(\"2D-only properties:\")\n",
    "print(\"  \" + \"\\n  \".join(unsupported))"
   ]
  },
  {
   "cell_type": "markdown",
   "id": "c09598ca",
   "metadata": {},
   "source": [
    "scikit-image 0.18 adds support for [passing custom functions](https://scikit-image.org/docs/dev/api/skimage.measure.html#skimage.measure.regionprops) for region properties as `extra_properties`. After this tutorial, you might want to try it out to [determine the surface area](https://github.com/scikit-image/scikit-image/issues/3797#issuecomment-471277056) of the nuclei or cells!"
   ]
  },
  {
   "cell_type": "markdown",
   "id": "bc2bc06b",
   "metadata": {},
   "source": [
    "`skimage.measure.regionprops` ignores the 0 label, which represents the background."
   ]
  },
  {
   "cell_type": "markdown",
   "id": "8c12da71",
   "metadata": {},
   "source": [
    "`regionprops_table` returns a dictionary of columns compatible with creating a pandas dataframe of properties of the data:"
   ]
  },
  {
   "cell_type": "code",
   "execution_count": null,
   "id": "f12fb599",
   "metadata": {},
   "outputs": [],
   "source": [
    "import pandas as pd\n",
    "\n",
    "\n",
    "info_table = pd.DataFrame(\n",
    "    measure.regionprops_table(\n",
    "        interior_labels,\n",
    "        intensity_image=nuclei,\n",
    "        properties=['label', 'slice', 'area', 'mean_intensity', 'solidity'],\n",
    "    )\n",
    ").set_index('label')"
   ]
  },
  {
   "cell_type": "code",
   "execution_count": null,
   "id": "9b03cec1",
   "metadata": {},
   "outputs": [],
   "source": [
    "info_table.head()"
   ]
  },
  {
   "cell_type": "markdown",
   "id": "f49cd5bb",
   "metadata": {},
   "source": [
    "We can now use pandas and seaborn for some analysis!"
   ]
  },
  {
   "cell_type": "code",
   "execution_count": null,
   "id": "0bfc7224",
   "metadata": {},
   "outputs": [],
   "source": [
    "import seaborn as sns\n",
    "\n",
    "sns.scatterplot(x='area', y='solidity', data=info_table, hue='mean_intensity');"
   ]
  },
  {
   "cell_type": "markdown",
   "id": "c2cc7b30",
   "metadata": {},
   "source": [
    "We can see that the mitotic nucleus is a clear outlier from the others in terms of solidity and intensity."
   ]
  },
  {
   "cell_type": "markdown",
   "id": "9d7266e5",
   "metadata": {},
   "source": [
    "### Exercise 2: physical measurements\n",
    "\n",
    "The \"area\" property above is actually the volume of the region, measured in voxels. Add a new column to your dataframe, `'area_um3'`, containing the volume in µm&sup3;. *Hint: remember the voxel spacing we noted at the start of the tutorial. You only need pandas to do this.*"
   ]
  },
  {
   "cell_type": "code",
   "execution_count": null,
   "id": "421f4919",
   "metadata": {},
   "outputs": [],
   "source": [
    "# Solution here"
   ]
  },
  {
   "cell_type": "markdown",
   "id": "d8ca0dda",
   "metadata": {},
   "source": [
    "### Exercise 3: displaying regionprops (or other values)\n",
    "\n",
    "Now that you have segmented cells, (or even with just the nuclei), use [`skimage.util.map_array`](https://scikit-image.org/docs/dev/api/skimage.util.html#skimage.util.map_array) to display a volume of the value of a regionprop (say, 'solidity' of the cells) on top of the segments."
   ]
  },
  {
   "cell_type": "code",
   "execution_count": null,
   "id": "6b068730",
   "metadata": {},
   "outputs": [],
   "source": [
    "# Solution here"
   ]
  }
 ],
 "metadata": {
  "kernelspec": {
   "display_name": "Python 3 (ipykernel)",
   "language": "python",
   "name": "python3"
  }
 },
 "nbformat": 4,
 "nbformat_minor": 5
}
